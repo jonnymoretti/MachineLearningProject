{
  "cells": [
    {
      "cell_type": "markdown",
      "metadata": {
        "id": "qo2qOIU3Fmar"
      },
      "source": [
        "<img src=\"https://www.ips.pt/ips_si/imagens/_ips-logotipo-site-2020\" width=\"150\" height=\"75\">\n",
        "\n",
        "# Introdução\n",
        "Neste trabalho de pesquisa, exploramos o cenário dos **Facebook Live Sellers in Thailand**, focando em 10 vendedores tailandeses de moda e cosméticos. Nosso objetivo é entender como esses vendedores utilizam a plataforma do Facebook para impulsionar suas vendas, bem como analisar o engajamento dos usuários por meio de métricas como comentários, compartilhamentos e reações, likes.\n",
        "\n",
        "Para atingir esse objetivo, coletamos dados das páginas do Facebook desses vendedores, incluindo informações sobre as publicações realizadas, como vídeos, fotos, status e links. Além disso, também capturamos métricas de engajamento, que são indicadores importantes para avaliar a receptividade e o interesse do público.\n",
        "\n",
        "Neste estudo, vamos realizar uma análise exploratória desses dados, buscando insights sobre as estratégias dos Vendedores ao **Facebook Live Sellers in Thailand**. Vamos investigar a distribuição das diferentes categorias de publicações e examinar como o engajamento dos usuários varia entre os vendedores e tipos de publicações.\n",
        "\n",
        "\n",
        "## Descrição do Trabalho\n",
        "Este trabalho de Aprendizagem Automática tem como objetivo investigar o comportamento de vendedores tailandeses de moda e cosméticos que utilizam a plataforma do Facebook Live para promover seus produtos. O estudo se concentra em um conjunto de dados composto por 10 páginas de vendedores tailandeses, que apresentam uma variedade de publicações, incluindo vídeos, fotos, status e links.\n",
        "\n",
        "A principal métrica utilizada para avaliar o engajamento dos usuários com essas páginas é uma combinação de comentários, compartilhamentos e reações. Para realizar uma análise abrangente dessas métricas, será aplicada uma técnica de aprendizado não supervisionado chamada clustering, com o objetivo de agrupar as publicações em categorias relevantes.\n",
        "\n",
        "## Conjunto de dados utilizados\n",
        "O conjunto de dados utilizado neste projeto consiste em informações coletadas de 10 páginas de vendedores tailandeses que utilizam o Facebook Live Sellers na Tailândia."
      ]
    },
    {
      "cell_type": "markdown",
      "metadata": {
        "id": "olrh3V_vFmau"
      },
      "source": [
        "## Análise Exploratória\n",
        "A análise exploratória de dados é uma etapa importante para compreender melhor o conjunto de dados e extrair informações relevantes. Os passos são os seguintes:\n",
        "1. Carregar os dados em Python.\n",
        "2. Verificar os dados em falta.\n",
        "3. Identificação do número e tipo de característica.\n",
        "4. Gráficos de distribuições.\n",
        "5. Preenchimento dos dados faltantes.\n",
        "\n",
        "\n",
        "\n",
        "### Carregar os dados em Python e Limpeza de Dados\n",
        "Utilizamos a biblioteca **pandas** para carregar os dados do arquivo CSV em um DataFrame no Jupyter Notebook. Na qual o nome do arquivo é \"Live_20210128.csv\". Fizemos uma limpeza de dados, pois existiam colunas a mais, com valores nulos. Assim sendo, fizemos a remoção dessas colunas. Fizemos o pré-processamento dos dados da variavel categórica **status_type**, fizemos a limpeza de dados para a coluna do **status_published** e a também eliminamos a coluna do **status_type**.\n",
        "\n",
        "Para clarificar a análise da tabela dos dados deixamos a abaixo a legenda do **status_type_codif** que é a nova coluna de status\n",
        "\n",
        "1 - Photo<br>\n",
        "2 - Status<br>\n",
        "3 - Video<br>\n",
        "4 - Link<br>"
      ]
    },
    {
      "cell_type": "code",
      "execution_count": null,
      "metadata": {
        "colab": {
          "base_uri": "https://localhost:8080/",
          "height": 363
        },
        "id": "1rp3yaHeFmav",
        "outputId": "c1a5ae75-a529-4f3d-fde2-7cfad89ded71"
      },
      "outputs": [
        {
          "output_type": "execute_result",
          "data": {
            "text/plain": [
              "   status_id  status_type  num_reactions  num_comments  num_shares  num_likes  \\\n",
              "0          1            3            529           512         262        432   \n",
              "1          2            1            150             0           0        150   \n",
              "2          3            3            227           236          57        204   \n",
              "3          4            1            111             0           0        111   \n",
              "4          5            1            213             0           0        204   \n",
              "5          6            1            217             6           0        211   \n",
              "6          7            3            503           614          72        418   \n",
              "7          8            3            295           453          53        260   \n",
              "8          9            1            203             1           0        198   \n",
              "9         10            1            170             9           1        167   \n",
              "\n",
              "   num_loves  num_wows  num_hahas  num_sads  num_angrys  \n",
              "0         92         3          1         1           0  \n",
              "1          0         0          0         0           0  \n",
              "2         21         1          1         0           0  \n",
              "3          0         0          0         0           0  \n",
              "4          9         0          0         0           0  \n",
              "5          5         1          0         0           0  \n",
              "6         70        10          2         0           3  \n",
              "7         32         1          1         0           1  \n",
              "8          5         0          0         0           0  \n",
              "9          3         0          0         0           0  "
            ],
            "text/html": [
              "\n",
              "  <div id=\"df-ebc7e7fd-e5e4-4a79-8ffe-5ce2f78ee7c4\">\n",
              "    <div class=\"colab-df-container\">\n",
              "      <div>\n",
              "<style scoped>\n",
              "    .dataframe tbody tr th:only-of-type {\n",
              "        vertical-align: middle;\n",
              "    }\n",
              "\n",
              "    .dataframe tbody tr th {\n",
              "        vertical-align: top;\n",
              "    }\n",
              "\n",
              "    .dataframe thead th {\n",
              "        text-align: right;\n",
              "    }\n",
              "</style>\n",
              "<table border=\"1\" class=\"dataframe\">\n",
              "  <thead>\n",
              "    <tr style=\"text-align: right;\">\n",
              "      <th></th>\n",
              "      <th>status_id</th>\n",
              "      <th>status_type</th>\n",
              "      <th>num_reactions</th>\n",
              "      <th>num_comments</th>\n",
              "      <th>num_shares</th>\n",
              "      <th>num_likes</th>\n",
              "      <th>num_loves</th>\n",
              "      <th>num_wows</th>\n",
              "      <th>num_hahas</th>\n",
              "      <th>num_sads</th>\n",
              "      <th>num_angrys</th>\n",
              "    </tr>\n",
              "  </thead>\n",
              "  <tbody>\n",
              "    <tr>\n",
              "      <th>0</th>\n",
              "      <td>1</td>\n",
              "      <td>3</td>\n",
              "      <td>529</td>\n",
              "      <td>512</td>\n",
              "      <td>262</td>\n",
              "      <td>432</td>\n",
              "      <td>92</td>\n",
              "      <td>3</td>\n",
              "      <td>1</td>\n",
              "      <td>1</td>\n",
              "      <td>0</td>\n",
              "    </tr>\n",
              "    <tr>\n",
              "      <th>1</th>\n",
              "      <td>2</td>\n",
              "      <td>1</td>\n",
              "      <td>150</td>\n",
              "      <td>0</td>\n",
              "      <td>0</td>\n",
              "      <td>150</td>\n",
              "      <td>0</td>\n",
              "      <td>0</td>\n",
              "      <td>0</td>\n",
              "      <td>0</td>\n",
              "      <td>0</td>\n",
              "    </tr>\n",
              "    <tr>\n",
              "      <th>2</th>\n",
              "      <td>3</td>\n",
              "      <td>3</td>\n",
              "      <td>227</td>\n",
              "      <td>236</td>\n",
              "      <td>57</td>\n",
              "      <td>204</td>\n",
              "      <td>21</td>\n",
              "      <td>1</td>\n",
              "      <td>1</td>\n",
              "      <td>0</td>\n",
              "      <td>0</td>\n",
              "    </tr>\n",
              "    <tr>\n",
              "      <th>3</th>\n",
              "      <td>4</td>\n",
              "      <td>1</td>\n",
              "      <td>111</td>\n",
              "      <td>0</td>\n",
              "      <td>0</td>\n",
              "      <td>111</td>\n",
              "      <td>0</td>\n",
              "      <td>0</td>\n",
              "      <td>0</td>\n",
              "      <td>0</td>\n",
              "      <td>0</td>\n",
              "    </tr>\n",
              "    <tr>\n",
              "      <th>4</th>\n",
              "      <td>5</td>\n",
              "      <td>1</td>\n",
              "      <td>213</td>\n",
              "      <td>0</td>\n",
              "      <td>0</td>\n",
              "      <td>204</td>\n",
              "      <td>9</td>\n",
              "      <td>0</td>\n",
              "      <td>0</td>\n",
              "      <td>0</td>\n",
              "      <td>0</td>\n",
              "    </tr>\n",
              "    <tr>\n",
              "      <th>5</th>\n",
              "      <td>6</td>\n",
              "      <td>1</td>\n",
              "      <td>217</td>\n",
              "      <td>6</td>\n",
              "      <td>0</td>\n",
              "      <td>211</td>\n",
              "      <td>5</td>\n",
              "      <td>1</td>\n",
              "      <td>0</td>\n",
              "      <td>0</td>\n",
              "      <td>0</td>\n",
              "    </tr>\n",
              "    <tr>\n",
              "      <th>6</th>\n",
              "      <td>7</td>\n",
              "      <td>3</td>\n",
              "      <td>503</td>\n",
              "      <td>614</td>\n",
              "      <td>72</td>\n",
              "      <td>418</td>\n",
              "      <td>70</td>\n",
              "      <td>10</td>\n",
              "      <td>2</td>\n",
              "      <td>0</td>\n",
              "      <td>3</td>\n",
              "    </tr>\n",
              "    <tr>\n",
              "      <th>7</th>\n",
              "      <td>8</td>\n",
              "      <td>3</td>\n",
              "      <td>295</td>\n",
              "      <td>453</td>\n",
              "      <td>53</td>\n",
              "      <td>260</td>\n",
              "      <td>32</td>\n",
              "      <td>1</td>\n",
              "      <td>1</td>\n",
              "      <td>0</td>\n",
              "      <td>1</td>\n",
              "    </tr>\n",
              "    <tr>\n",
              "      <th>8</th>\n",
              "      <td>9</td>\n",
              "      <td>1</td>\n",
              "      <td>203</td>\n",
              "      <td>1</td>\n",
              "      <td>0</td>\n",
              "      <td>198</td>\n",
              "      <td>5</td>\n",
              "      <td>0</td>\n",
              "      <td>0</td>\n",
              "      <td>0</td>\n",
              "      <td>0</td>\n",
              "    </tr>\n",
              "    <tr>\n",
              "      <th>9</th>\n",
              "      <td>10</td>\n",
              "      <td>1</td>\n",
              "      <td>170</td>\n",
              "      <td>9</td>\n",
              "      <td>1</td>\n",
              "      <td>167</td>\n",
              "      <td>3</td>\n",
              "      <td>0</td>\n",
              "      <td>0</td>\n",
              "      <td>0</td>\n",
              "      <td>0</td>\n",
              "    </tr>\n",
              "  </tbody>\n",
              "</table>\n",
              "</div>\n",
              "      <button class=\"colab-df-convert\" onclick=\"convertToInteractive('df-ebc7e7fd-e5e4-4a79-8ffe-5ce2f78ee7c4')\"\n",
              "              title=\"Convert this dataframe to an interactive table.\"\n",
              "              style=\"display:none;\">\n",
              "        \n",
              "  <svg xmlns=\"http://www.w3.org/2000/svg\" height=\"24px\"viewBox=\"0 0 24 24\"\n",
              "       width=\"24px\">\n",
              "    <path d=\"M0 0h24v24H0V0z\" fill=\"none\"/>\n",
              "    <path d=\"M18.56 5.44l.94 2.06.94-2.06 2.06-.94-2.06-.94-.94-2.06-.94 2.06-2.06.94zm-11 1L8.5 8.5l.94-2.06 2.06-.94-2.06-.94L8.5 2.5l-.94 2.06-2.06.94zm10 10l.94 2.06.94-2.06 2.06-.94-2.06-.94-.94-2.06-.94 2.06-2.06.94z\"/><path d=\"M17.41 7.96l-1.37-1.37c-.4-.4-.92-.59-1.43-.59-.52 0-1.04.2-1.43.59L10.3 9.45l-7.72 7.72c-.78.78-.78 2.05 0 2.83L4 21.41c.39.39.9.59 1.41.59.51 0 1.02-.2 1.41-.59l7.78-7.78 2.81-2.81c.8-.78.8-2.07 0-2.86zM5.41 20L4 18.59l7.72-7.72 1.47 1.35L5.41 20z\"/>\n",
              "  </svg>\n",
              "      </button>\n",
              "      \n",
              "  <style>\n",
              "    .colab-df-container {\n",
              "      display:flex;\n",
              "      flex-wrap:wrap;\n",
              "      gap: 12px;\n",
              "    }\n",
              "\n",
              "    .colab-df-convert {\n",
              "      background-color: #E8F0FE;\n",
              "      border: none;\n",
              "      border-radius: 50%;\n",
              "      cursor: pointer;\n",
              "      display: none;\n",
              "      fill: #1967D2;\n",
              "      height: 32px;\n",
              "      padding: 0 0 0 0;\n",
              "      width: 32px;\n",
              "    }\n",
              "\n",
              "    .colab-df-convert:hover {\n",
              "      background-color: #E2EBFA;\n",
              "      box-shadow: 0px 1px 2px rgba(60, 64, 67, 0.3), 0px 1px 3px 1px rgba(60, 64, 67, 0.15);\n",
              "      fill: #174EA6;\n",
              "    }\n",
              "\n",
              "    [theme=dark] .colab-df-convert {\n",
              "      background-color: #3B4455;\n",
              "      fill: #D2E3FC;\n",
              "    }\n",
              "\n",
              "    [theme=dark] .colab-df-convert:hover {\n",
              "      background-color: #434B5C;\n",
              "      box-shadow: 0px 1px 3px 1px rgba(0, 0, 0, 0.15);\n",
              "      filter: drop-shadow(0px 1px 2px rgba(0, 0, 0, 0.3));\n",
              "      fill: #FFFFFF;\n",
              "    }\n",
              "  </style>\n",
              "\n",
              "      <script>\n",
              "        const buttonEl =\n",
              "          document.querySelector('#df-ebc7e7fd-e5e4-4a79-8ffe-5ce2f78ee7c4 button.colab-df-convert');\n",
              "        buttonEl.style.display =\n",
              "          google.colab.kernel.accessAllowed ? 'block' : 'none';\n",
              "\n",
              "        async function convertToInteractive(key) {\n",
              "          const element = document.querySelector('#df-ebc7e7fd-e5e4-4a79-8ffe-5ce2f78ee7c4');\n",
              "          const dataTable =\n",
              "            await google.colab.kernel.invokeFunction('convertToInteractive',\n",
              "                                                     [key], {});\n",
              "          if (!dataTable) return;\n",
              "\n",
              "          const docLinkHtml = 'Like what you see? Visit the ' +\n",
              "            '<a target=\"_blank\" href=https://colab.research.google.com/notebooks/data_table.ipynb>data table notebook</a>'\n",
              "            + ' to learn more about interactive tables.';\n",
              "          element.innerHTML = '';\n",
              "          dataTable['output_type'] = 'display_data';\n",
              "          await google.colab.output.renderOutput(dataTable, element);\n",
              "          const docLink = document.createElement('div');\n",
              "          docLink.innerHTML = docLinkHtml;\n",
              "          element.appendChild(docLink);\n",
              "        }\n",
              "      </script>\n",
              "    </div>\n",
              "  </div>\n",
              "  "
            ]
          },
          "metadata": {},
          "execution_count": 1
        }
      ],
      "source": [
        "import numpy as np\n",
        "import pandas as pd\n",
        "from sklearn.preprocessing import LabelEncoder\n",
        "\n",
        "label_encoder = LabelEncoder()\n",
        "\n",
        "data_dir = \"https://archive.ics.uci.edu/ml/machine-learning-databases/00488/\"\n",
        "df_live = pd.read_csv(data_dir + \"Live_20210128.csv\")\n",
        "\n",
        "colunas_remove = ['Column1','Column2','Column3','Column4','status_published']\n",
        "df_live = df_live.drop(colunas_remove, axis=1)\n",
        "df_live['status_type_codif'] = label_encoder.fit_transform(df_live['status_type'])\n",
        "coluna_remove=['status_type']\n",
        "df_live = df_live.drop(coluna_remove, axis=1)\n",
        "\n",
        "coluna_movida = df_live.pop('status_type_codif')\n",
        "df_live.insert(1, 'status_type', coluna_movida)\n",
        "\n",
        "df_live.head(10)"
      ]
    },
    {
      "cell_type": "markdown",
      "metadata": {
        "id": "IXBOrFs3Fmaw"
      },
      "source": [
        "### Verificar os dados em falta\n",
        "Para verificar se existem dados faltantes no conjunto de dados, utilizamos o método **isnull()** seguido do método **sum()** para somar os valores nulos em cada coluna.<br>\n",
        "Irá exibir a quantidade de valores nulos em cada coluna do DataFrame.\n"
      ]
    },
    {
      "cell_type": "code",
      "execution_count": null,
      "metadata": {
        "colab": {
          "base_uri": "https://localhost:8080/"
        },
        "id": "OsK1f1-2Fmaw",
        "outputId": "d526fbc8-f650-4bf3-9e7c-350c8466f871"
      },
      "outputs": [
        {
          "output_type": "stream",
          "name": "stdout",
          "text": [
            "status_id        0\n",
            "status_type      0\n",
            "num_reactions    0\n",
            "num_comments     0\n",
            "num_shares       0\n",
            "num_likes        0\n",
            "num_loves        0\n",
            "num_wows         0\n",
            "num_hahas        0\n",
            "num_sads         0\n",
            "num_angrys       0\n",
            "dtype: int64\n"
          ]
        }
      ],
      "source": [
        "missing_data = df_live.isnull().sum()\n",
        "print(missing_data)"
      ]
    },
    {
      "cell_type": "markdown",
      "metadata": {
        "id": "7w1B4RzrFmax"
      },
      "source": [
        "### Identificação do Número e Tipo de características\n",
        "Para identificar o número e o tipo de características no conjunto de dados, utilizamos o atributo **shape** para obter o número de linhas (amostras) e colunas (características) e o atributo **dtypes** para obter os tipos de dados de cada coluna.<br>\n",
        "O código também irá exibir o número de amostras."
      ]
    },
    {
      "cell_type": "code",
      "execution_count": null,
      "metadata": {
        "colab": {
          "base_uri": "https://localhost:8080/"
        },
        "id": "uUSItsgLFmax",
        "outputId": "925c4798-8e7e-4d27-a557-93f251455d06"
      },
      "outputs": [
        {
          "output_type": "stream",
          "name": "stdout",
          "text": [
            "Número de amostras: 7050\n",
            "Número de características: 11\n",
            "Tipos de características:\n",
            "status_id        int64\n",
            "status_type      int64\n",
            "num_reactions    int64\n",
            "num_comments     int64\n",
            "num_shares       int64\n",
            "num_likes        int64\n",
            "num_loves        int64\n",
            "num_wows         int64\n",
            "num_hahas        int64\n",
            "num_sads         int64\n",
            "num_angrys       int64\n",
            "dtype: object\n"
          ]
        }
      ],
      "source": [
        "num_amostras, num_caracteristicas = df_live.shape\n",
        "tipos_caracteristicas = df_live.dtypes\n",
        "\n",
        "print(\"Número de amostras:\", num_amostras)\n",
        "print(\"Número de características:\", num_caracteristicas)\n",
        "print(\"Tipos de características:\")\n",
        "print(tipos_caracteristicas)"
      ]
    },
    {
      "cell_type": "markdown",
      "metadata": {
        "id": "x11q-jGNFmax"
      },
      "source": [
        "### Gráficos de Distribuições (Histograma)\n",
        "Para criar gráficos de distribuição, como histogramas, escolhemos duas características do conjunto de dados e utilizamos a biblioteca **matplotlib** para plotar os gráficos. Utilizamos plot histogramas para as características **comentários** e **likes**.<br>\n",
        "Fizemos 4 histogramas para cada tipo de \"status\", para uma melhor compreensão e análise do gráfico."
      ]
    },
    {
      "cell_type": "code",
      "execution_count": null,
      "metadata": {
        "colab": {
          "base_uri": "https://localhost:8080/",
          "height": 1000
        },
        "id": "OjGJoaU4Fmax",
        "outputId": "53462147-c87b-4529-ab3a-1d5b144075fc"
      },
      "outputs": [
        {
          "output_type": "display_data",
          "data": {
            "text/plain": [
              "<Figure size 640x480 with 1 Axes>"
            ],
            "image/png": "[encoded data removed]"
          },
          "metadata": {}
        },
        {
          "output_type": "display_data",
          "data": {
            "text/plain": [
              "<Figure size 640x480 with 1 Axes>"
            ],
            "image/png": "[encoded data removed]"
          },
          "metadata": {}
        },
        {
          "output_type": "display_data",
          "data": {
            "text/plain": [
              "<Figure size 640x480 with 1 Axes>"
            ],
            "image/png": "[encoded data removed]"
          },
          "metadata": {}
        },
        {
          "output_type": "display_data",
          "data": {
            "text/plain": [
              "<Figure size 640x480 with 1 Axes>"
            ],
            "image/png": "[encoded data removed]"
          },
          "metadata": {}
        }
      ],
      "source": [
        "import matplotlib.pyplot as plt\n",
        "\n",
        "grouped_data = df_live.groupby('status_type')\n",
        "\n",
        "for status_type_codif, group in grouped_data:\n",
        "    plt.hist(group['num_comments'], bins=10, alpha=0.5, label='Número de Comentários')\n",
        "    plt.hist(group['num_likes'], bins=10, alpha=0.5, label='Número de Likes')\n",
        "    plt.xlabel('Quantidade')\n",
        "    plt.ylabel('Frequência')\n",
        "    plt.title(f'Distribuição de Comentários e Likes - {status_type_codif}')\n",
        "    plt.legend(loc='upper right')\n",
        "    plt.show()"
      ]
    },
    {
      "cell_type": "markdown",
      "metadata": {
        "id": "dP_euQIpFmay"
      },
      "source": [
        "Iremos também realizar um **Histograma** para podermos visualizar qual é o status que a maioria dos vendedores utiliza para vender seus produtos no Facebook."
      ]
    },
    {
      "cell_type": "code",
      "execution_count": null,
      "metadata": {
        "colab": {
          "base_uri": "https://localhost:8080/",
          "height": 499
        },
        "id": "5gMc1tTsFmay",
        "outputId": "f8bb8db1-b26b-4ade-e713-5c9e57bdf042"
      },
      "outputs": [
        {
          "output_type": "execute_result",
          "data": {
            "text/plain": [
              "[Text(0.5, 0, 'Status Type'), Text(0, 0.5, 'Count')]"
            ]
          },
          "metadata": {},
          "execution_count": 5
        },
        {
          "output_type": "display_data",
          "data": {
            "text/plain": [
              "<Figure size 1000x500 with 1 Axes>"
            ],
            "image/png": "[encoded data removed]"
          },
          "metadata": {}
        }
      ],
      "source": [
        "st_ax = df_live.status_type.value_counts().plot(kind='bar',\n",
        "                                                figsize=(10,5),\n",
        "                                                title=\"Status Type\")\n",
        "st_ax.set(xlabel=\"Status Type\", ylabel=\"Count\")"
      ]
    },
    {
      "cell_type": "markdown",
      "metadata": {
        "id": "iEeOASfuFmay"
      },
      "source": [
        "Ao analisar o gráfico podemos concluir que a maioria dos vendedores parece estar a usar foto ou vídeo como status para a venda. Uma pequena parte dos usuários depende do status do texto ou URL/link para postar um anúncio."
      ]
    },
    {
      "cell_type": "markdown",
      "metadata": {
        "id": "IXkvAVOBFmay"
      },
      "source": [
        "### Preenchimento dos dados em falta\n",
        "Para preencher os dados em falta, escolhemos uma estratégia adequada com base na natureza dos dados e no objetivo da análise. A nossa estratégia foi de substituir os valores falatantes pela **média**."
      ]
    },
    {
      "cell_type": "code",
      "execution_count": null,
      "metadata": {
        "colab": {
          "base_uri": "https://localhost:8080/"
        },
        "id": "oImJnf0YFmaz",
        "outputId": "7070ecd3-99ab-41e6-d86d-8f07ef971824"
      },
      "outputs": [
        {
          "output_type": "stream",
          "name": "stdout",
          "text": [
            "      status_id  status_type  num_reactions  num_comments  num_shares  \\\n",
            "0             1            3            529           512         262   \n",
            "1             2            1            150             0           0   \n",
            "2             3            3            227           236          57   \n",
            "3             4            1            111             0           0   \n",
            "4             5            1            213             0           0   \n",
            "...         ...          ...            ...           ...         ...   \n",
            "7045       7046            1             89             0           0   \n",
            "7046       7047            1             16             0           0   \n",
            "7047       7048            1              2             0           0   \n",
            "7048       7049            1            351            12          22   \n",
            "7049       7050            1             17             0           0   \n",
            "\n",
            "      num_likes  num_loves  num_wows  num_hahas  num_sads  num_angrys  \n",
            "0           432         92         3          1         1           0  \n",
            "1           150          0         0          0         0           0  \n",
            "2           204         21         1          1         0           0  \n",
            "3           111          0         0          0         0           0  \n",
            "4           204          9         0          0         0           0  \n",
            "...         ...        ...       ...        ...       ...         ...  \n",
            "7045         89          0         0          0         0           0  \n",
            "7046         14          1         0          1         0           0  \n",
            "7047          1          1         0          0         0           0  \n",
            "7048        349          2         0          0         0           0  \n",
            "7049         17          0         0          0         0           0  \n",
            "\n",
            "[7050 rows x 11 columns]\n"
          ]
        }
      ],
      "source": [
        "data_filled = df_live.fillna(df_live.mean())\n",
        "print(data_filled)\n"
      ]
    },
    {
      "cell_type": "markdown",
      "metadata": {
        "id": "I5r59hs3Fmaz"
      },
      "source": [
        "### Decisão de Normalização e Padronização\n",
        "Com base no tema do trabalho e nas métricas de engajamento (comentários, compartilhamentos e reações), não parece haver uma necessidade imediata de normalização ou padronização dos dados.\n",
        "\n",
        "A normalização ou padronização é geralmente útil quando você tem características em diferentes escalas ou quando precisa remover a escala e a média dos dados. No entanto, no contexto das métricas de engajamento do Facebook, as contagens de comentários, compartilhamentos e reações geralmente são valores inteiros e já estão em uma escala semelhante.\n",
        "\n",
        "Se pretender utilizar algoritmos de aprendizado de máquina que são sensíveis à escala dos dados ou que requerem uma distribuição normal dos dados, então a padronização pode ser considerada. No entanto, é importante mencionar que a padronização pode não ter um impacto significativo nas métricas de engajamento, pois elas são contagens discretas.\n",
        "\n",
        "Assim sendo, optamos por não realizar a normalização e a padronização dos dados.\n"
      ]
    },
    {
      "cell_type": "markdown",
      "metadata": {
        "id": "xG1T2bZcFmaz"
      },
      "source": [
        "## Métodos de Machine Learning\n",
        "\n",
        "### Escolha de modelos de Machine Learning\n",
        "Antes de realizarmos o desenvolvimento do modelo, devemos primeiramento escolher modelos no qual iremos utilizar para estudar o agrupamento das populações, isto é, as entidades de cada grupo são comparativamente mais semelhantes às entidades desse grupo do que as dos outros grupos. Para tal escolhemos dois modelos que iremos utilizar neste tópico de estudo.\n",
        "- O primeiro algoritmo de clustering é o **Modelo de Centróides**. Este modelo nos diz que a noção de similaridade é derivada pela proximidade de um ponto de dados ao centróide dos clusters. O algoritmo de clusterização K-Means é um algoritmo popular que se enquadra nessa categoria.\n",
        "- O segundo modelo é a **Clusterização Hierárquica**. Este modelo é um algoritmo que constrói a hierarquia de clusters. Esse algoritmo começa com todos os pontos de dados atribuídos a um cluster próprio. Em seguida, dois clusters mais próximos são mesclados no mesmo cluster. No final, esse algoritmo termina quando há apenas um único cluster. Este modelo pode ser depois observado e interpretado com um dendrograma.\n"
      ]
    },
    {
      "cell_type": "markdown",
      "metadata": {
        "id": "2wbsRKFMFmaz"
      },
      "source": [
        "### Desenvolvimento do modelo\n",
        "#### 1º Modelo - Modelo de Centróides\n",
        "Antes de começarmos o desenvolvimento do modelo fizemos a seleção do algortimo de clustering na qual foi selecionado o algoritmo de **k-means** que é o mais adequado para o nosso trabalho.\n",
        "\n",
        "Em seguida fizemos a definição do número de clusters, na qual utilizamos o método do Elbow para identificar o número de clusters que melhor se ajustam aos dados."
      ]
    },
    {
      "cell_type": "code",
      "execution_count": null,
      "metadata": {
        "colab": {
          "base_uri": "https://localhost:8080/",
          "height": 839
        },
        "id": "rwe8rsUuFmaz",
        "outputId": "54b8da3c-6efe-4ef6-a20b-4bf67daefa1c"
      },
      "outputs": [
        {
          "output_type": "stream",
          "name": "stderr",
          "text": [
            "/usr/local/lib/python3.10/dist-packages/sklearn/cluster/_kmeans.py:870: FutureWarning: The default value of `n_init` will change from 10 to 'auto' in 1.4. Set the value of `n_init` explicitly to suppress the warning\n",
            "  warnings.warn(\n",
            "/usr/local/lib/python3.10/dist-packages/sklearn/cluster/_kmeans.py:870: FutureWarning: The default value of `n_init` will change from 10 to 'auto' in 1.4. Set the value of `n_init` explicitly to suppress the warning\n",
            "  warnings.warn(\n",
            "/usr/local/lib/python3.10/dist-packages/sklearn/cluster/_kmeans.py:870: FutureWarning: The default value of `n_init` will change from 10 to 'auto' in 1.4. Set the value of `n_init` explicitly to suppress the warning\n",
            "  warnings.warn(\n",
            "/usr/local/lib/python3.10/dist-packages/sklearn/cluster/_kmeans.py:870: FutureWarning: The default value of `n_init` will change from 10 to 'auto' in 1.4. Set the value of `n_init` explicitly to suppress the warning\n",
            "  warnings.warn(\n",
            "/usr/local/lib/python3.10/dist-packages/sklearn/cluster/_kmeans.py:870: FutureWarning: The default value of `n_init` will change from 10 to 'auto' in 1.4. Set the value of `n_init` explicitly to suppress the warning\n",
            "  warnings.warn(\n",
            "/usr/local/lib/python3.10/dist-packages/sklearn/cluster/_kmeans.py:870: FutureWarning: The default value of `n_init` will change from 10 to 'auto' in 1.4. Set the value of `n_init` explicitly to suppress the warning\n",
            "  warnings.warn(\n",
            "/usr/local/lib/python3.10/dist-packages/sklearn/cluster/_kmeans.py:870: FutureWarning: The default value of `n_init` will change from 10 to 'auto' in 1.4. Set the value of `n_init` explicitly to suppress the warning\n",
            "  warnings.warn(\n",
            "/usr/local/lib/python3.10/dist-packages/sklearn/cluster/_kmeans.py:870: FutureWarning: The default value of `n_init` will change from 10 to 'auto' in 1.4. Set the value of `n_init` explicitly to suppress the warning\n",
            "  warnings.warn(\n",
            "/usr/local/lib/python3.10/dist-packages/sklearn/cluster/_kmeans.py:870: FutureWarning: The default value of `n_init` will change from 10 to 'auto' in 1.4. Set the value of `n_init` explicitly to suppress the warning\n",
            "  warnings.warn(\n",
            "/usr/local/lib/python3.10/dist-packages/sklearn/cluster/_kmeans.py:870: FutureWarning: The default value of `n_init` will change from 10 to 'auto' in 1.4. Set the value of `n_init` explicitly to suppress the warning\n",
            "  warnings.warn(\n"
          ]
        },
        {
          "output_type": "display_data",
          "data": {
            "text/plain": [
              "<Figure size 640x480 with 1 Axes>"
            ],
            "image/png": "[encoded data removed]"
          },
          "metadata": {}
        }
      ],
      "source": [
        "from sklearn.cluster import KMeans\n",
        "\n",
        "inertia = []\n",
        "\n",
        "for k in range(1, 11):\n",
        "    kmeans = KMeans(n_clusters=k, random_state=0)\n",
        "    kmeans.fit(df_live)\n",
        "    inertia.append(kmeans.inertia_)\n",
        "\n",
        "plt.plot(range(1, 11), inertia, marker='o')\n",
        "plt.xlabel('Número de Clusters (K)')\n",
        "plt.ylabel('SSE')\n",
        "plt.title('Método do Cotovelo')\n",
        "plt.show()"
      ]
    },
    {
      "cell_type": "markdown",
      "metadata": {
        "id": "LjAAhqKvFma0"
      },
      "source": [
        "# Pré-processamento\n",
        "\n",
        "No começo do projeto realizei a limpeza de dados da tabela como os valores em faltas, as colunas que estavam a mais, e lidei com variaveis categóricas. Porém meus dados possui uma dimensionalidade muito grande,ou seja, o meu modelo possui **overfitting** no qual preciso realizar uma redução de dimensionalidade nos meus dados para realizar o **K-means** de uma forma mais efeciente."
      ]
    },
    {
      "cell_type": "code",
      "execution_count": null,
      "metadata": {
        "colab": {
          "base_uri": "https://localhost:8080/"
        },
        "id": "blU3tUt-Fma0",
        "outputId": "1cd2ce67-9b7e-4433-ca34-275219918bb2"
      },
      "outputs": [
        {
          "output_type": "stream",
          "name": "stdout",
          "text": [
            "    status_id  status_type  num_reactions  num_comments  num_shares  \\\n",
            "0           1            3            529           512         262   \n",
            "1           2            1            150             0           0   \n",
            "2           3            3            227           236          57   \n",
            "3           4            1            111             0           0   \n",
            "4           5            1            213             0           0   \n",
            "..        ...          ...            ...           ...         ...   \n",
            "83         84            3            392           461          47   \n",
            "84         85            3            310           540          41   \n",
            "85         86            1             14             3           0   \n",
            "86         87            1            293             6           1   \n",
            "87         88            1            236            12           0   \n",
            "\n",
            "    num_likes  num_loves  num_wows  num_hahas  num_sads  num_angrys  \n",
            "0         432         92         3          1         1           0  \n",
            "1         150          0         0          0         0           0  \n",
            "2         204         21         1          1         0           0  \n",
            "3         111          0         0          0         0           0  \n",
            "4         204          9         0          0         0           0  \n",
            "..        ...        ...       ...        ...       ...         ...  \n",
            "83        360         32         0          0         0           0  \n",
            "84        284         26         0          0         0           0  \n",
            "85         12          2         0          0         0           0  \n",
            "86        275         15         3          0         0           0  \n",
            "87        226          8         1          1         0           0  \n",
            "\n",
            "[88 rows x 11 columns]\n"
          ]
        }
      ],
      "source": [
        "import pandas as pd\n",
        "\n",
        "df_reduced = df_live.head(88)\n",
        "\n",
        "print(df_reduced)\n",
        "\n"
      ]
    },
    {
      "cell_type": "markdown",
      "metadata": {
        "id": "PN4220Z1Fma0"
      },
      "source": [
        "### K-Means from Scratch\n",
        "Nesta etapa iremos utilizar o algoritmo do k-means. Neste algoritmo selecionamos 3 clusters de acordo com a análise feita anteriormente do método do Elbow."
      ]
    },
    {
      "cell_type": "code",
      "execution_count": null,
      "metadata": {
        "colab": {
          "base_uri": "https://localhost:8080/",
          "height": 575
        },
        "id": "Cu3FN6CRFma1",
        "outputId": "4c463409-9334-478a-a704-076b697e417a"
      },
      "outputs": [
        {
          "output_type": "execute_result",
          "data": {
            "text/plain": [
              "   num_comments   num_likes\n",
              "b      6.500000  111.088235\n",
              "r    326.642857  245.071429\n",
              "y     76.769231  186.038462"
            ],
            "text/html": [
              "\n",
              "  <div id=\"df-417ab713-4d08-4b5d-9120-e29e781cde41\">\n",
              "    <div class=\"colab-df-container\">\n",
              "      <div>\n",
              "<style scoped>\n",
              "    .dataframe tbody tr th:only-of-type {\n",
              "        vertical-align: middle;\n",
              "    }\n",
              "\n",
              "    .dataframe tbody tr th {\n",
              "        vertical-align: top;\n",
              "    }\n",
              "\n",
              "    .dataframe thead th {\n",
              "        text-align: right;\n",
              "    }\n",
              "</style>\n",
              "<table border=\"1\" class=\"dataframe\">\n",
              "  <thead>\n",
              "    <tr style=\"text-align: right;\">\n",
              "      <th></th>\n",
              "      <th>num_comments</th>\n",
              "      <th>num_likes</th>\n",
              "    </tr>\n",
              "  </thead>\n",
              "  <tbody>\n",
              "    <tr>\n",
              "      <th>b</th>\n",
              "      <td>6.500000</td>\n",
              "      <td>111.088235</td>\n",
              "    </tr>\n",
              "    <tr>\n",
              "      <th>r</th>\n",
              "      <td>326.642857</td>\n",
              "      <td>245.071429</td>\n",
              "    </tr>\n",
              "    <tr>\n",
              "      <th>y</th>\n",
              "      <td>76.769231</td>\n",
              "      <td>186.038462</td>\n",
              "    </tr>\n",
              "  </tbody>\n",
              "</table>\n",
              "</div>\n",
              "      <button class=\"colab-df-convert\" onclick=\"convertToInteractive('df-417ab713-4d08-4b5d-9120-e29e781cde41')\"\n",
              "              title=\"Convert this dataframe to an interactive table.\"\n",
              "              style=\"display:none;\">\n",
              "        \n",
              "  <svg xmlns=\"http://www.w3.org/2000/svg\" height=\"24px\"viewBox=\"0 0 24 24\"\n",
              "       width=\"24px\">\n",
              "    <path d=\"M0 0h24v24H0V0z\" fill=\"none\"/>\n",
              "    <path d=\"M18.56 5.44l.94 2.06.94-2.06 2.06-.94-2.06-.94-.94-2.06-.94 2.06-2.06.94zm-11 1L8.5 8.5l.94-2.06 2.06-.94-2.06-.94L8.5 2.5l-.94 2.06-2.06.94zm10 10l.94 2.06.94-2.06 2.06-.94-2.06-.94-.94-2.06-.94 2.06-2.06.94z\"/><path d=\"M17.41 7.96l-1.37-1.37c-.4-.4-.92-.59-1.43-.59-.52 0-1.04.2-1.43.59L10.3 9.45l-7.72 7.72c-.78.78-.78 2.05 0 2.83L4 21.41c.39.39.9.59 1.41.59.51 0 1.02-.2 1.41-.59l7.78-7.78 2.81-2.81c.8-.78.8-2.07 0-2.86zM5.41 20L4 18.59l7.72-7.72 1.47 1.35L5.41 20z\"/>\n",
              "  </svg>\n",
              "      </button>\n",
              "      \n",
              "  <style>\n",
              "    .colab-df-container {\n",
              "      display:flex;\n",
              "      flex-wrap:wrap;\n",
              "      gap: 12px;\n",
              "    }\n",
              "\n",
              "    .colab-df-convert {\n",
              "      background-color: #E8F0FE;\n",
              "      border: none;\n",
              "      border-radius: 50%;\n",
              "      cursor: pointer;\n",
              "      display: none;\n",
              "      fill: #1967D2;\n",
              "      height: 32px;\n",
              "      padding: 0 0 0 0;\n",
              "      width: 32px;\n",
              "    }\n",
              "\n",
              "    .colab-df-convert:hover {\n",
              "      background-color: #E2EBFA;\n",
              "      box-shadow: 0px 1px 2px rgba(60, 64, 67, 0.3), 0px 1px 3px 1px rgba(60, 64, 67, 0.15);\n",
              "      fill: #174EA6;\n",
              "    }\n",
              "\n",
              "    [theme=dark] .colab-df-convert {\n",
              "      background-color: #3B4455;\n",
              "      fill: #D2E3FC;\n",
              "    }\n",
              "\n",
              "    [theme=dark] .colab-df-convert:hover {\n",
              "      background-color: #434B5C;\n",
              "      box-shadow: 0px 1px 3px 1px rgba(0, 0, 0, 0.15);\n",
              "      filter: drop-shadow(0px 1px 2px rgba(0, 0, 0, 0.3));\n",
              "      fill: #FFFFFF;\n",
              "    }\n",
              "  </style>\n",
              "\n",
              "      <script>\n",
              "        const buttonEl =\n",
              "          document.querySelector('#df-417ab713-4d08-4b5d-9120-e29e781cde41 button.colab-df-convert');\n",
              "        buttonEl.style.display =\n",
              "          google.colab.kernel.accessAllowed ? 'block' : 'none';\n",
              "\n",
              "        async function convertToInteractive(key) {\n",
              "          const element = document.querySelector('#df-417ab713-4d08-4b5d-9120-e29e781cde41');\n",
              "          const dataTable =\n",
              "            await google.colab.kernel.invokeFunction('convertToInteractive',\n",
              "                                                     [key], {});\n",
              "          if (!dataTable) return;\n",
              "\n",
              "          const docLinkHtml = 'Like what you see? Visit the ' +\n",
              "            '<a target=\"_blank\" href=https://colab.research.google.com/notebooks/data_table.ipynb>data table notebook</a>'\n",
              "            + ' to learn more about interactive tables.';\n",
              "          element.innerHTML = '';\n",
              "          dataTable['output_type'] = 'display_data';\n",
              "          await google.colab.output.renderOutput(dataTable, element);\n",
              "          const docLink = document.createElement('div');\n",
              "          docLink.innerHTML = docLinkHtml;\n",
              "          element.appendChild(docLink);\n",
              "        }\n",
              "      </script>\n",
              "    </div>\n",
              "  </div>\n",
              "  "
            ]
          },
          "metadata": {},
          "execution_count": 9
        },
        {
          "output_type": "display_data",
          "data": {
            "text/plain": [
              "<Figure size 640x480 with 1 Axes>"
            ],
            "image/png": "[encoded data removed]"
          },
          "metadata": {}
        }
      ],
      "source": [
        "import numpy as np\n",
        "import pandas as pd\n",
        "\n",
        "X_train = df_reduced[[\"num_comments\", \"num_likes\"]]\n",
        "\n",
        "centroids = pd.DataFrame({\"num_comments\": [300, 20, 100],\n",
        "                          \"num_likes\": [250, 70, 100]},\n",
        "                         index=[\"r\", \"b\", \"y\"])\n",
        "\n",
        "centroids.index = [\"r\", \"b\", \"y\"]\n",
        "\n",
        "def get_nearest_centroid(obs):\n",
        "    dists = np.sqrt(((obs - centroids) ** 2).sum(axis=1))\n",
        "    return dists.idxmin()\n",
        "\n",
        "clusters = X_train.apply(get_nearest_centroid, axis=1)\n",
        "\n",
        "centroids = X_train.groupby(clusters).mean()\n",
        "\n",
        "ax = X_train.plot.scatter(x=\"num_comments\", y=\"num_likes\",\n",
        "                          c=clusters, marker=\"x\", alpha=.5)\n",
        "\n",
        "centroids.plot.scatter(x=\"num_comments\", y=\"num_likes\",\n",
        "                       c=centroids.index, ax=ax)\n",
        "centroids"
      ]
    },
    {
      "cell_type": "markdown",
      "metadata": {
        "id": "SmkZDXFHFma1"
      },
      "source": [
        "#### 2º Modelo - Clusterização Hierárquica\n",
        "##### Dendrograma\n",
        "Iremos realizar o dendograma para poder analisar como os agrupamentos são formados em cada passo e para avaliar os níveis de similaridade (ou distância) dos agrupamentos que são formados."
      ]
    },
    {
      "cell_type": "code",
      "source": [
        "df_reduced2 = df_live.sample(frac=0.0125)\n",
        "\n",
        "print(df_reduced2)"
      ],
      "metadata": {
        "colab": {
          "base_uri": "https://localhost:8080/"
        },
        "id": "MPzJ4K9Neigu",
        "outputId": "26d345b1-2099-4808-9c11-0d82c0ae2832"
      },
      "execution_count": null,
      "outputs": [
        {
          "output_type": "stream",
          "name": "stdout",
          "text": [
            "      status_id  status_type  num_reactions  num_comments  num_shares  \\\n",
            "6937       6938            3            173          1773         105   \n",
            "5138       5139            3             62           102          76   \n",
            "5972       5973            1             30             8           0   \n",
            "5584       5585            1             24             1           0   \n",
            "5492       5493            1            477             3           0   \n",
            "...         ...          ...            ...           ...         ...   \n",
            "6805       6806            1             16            11           0   \n",
            "6514       6515            1             46             4           0   \n",
            "2121       2122            1             26            11           0   \n",
            "3104       3105            1             11             0           0   \n",
            "4627       4628            1            392           133           2   \n",
            "\n",
            "      num_likes  num_loves  num_wows  num_hahas  num_sads  num_angrys  \n",
            "6937        153         17         1          1         1           0  \n",
            "5138         57          2         0          3         0           0  \n",
            "5972         30          0         0          0         0           0  \n",
            "5584         23          1         0          0         0           0  \n",
            "5492        475          2         0          0         0           0  \n",
            "...         ...        ...       ...        ...       ...         ...  \n",
            "6805         15          1         0          0         0           0  \n",
            "6514         44          1         1          0         0           0  \n",
            "2121         26          0         0          0         0           0  \n",
            "3104         11          0         0          0         0           0  \n",
            "4627        391          1         0          0         0           0  \n",
            "\n",
            "[88 rows x 11 columns]\n"
          ]
        }
      ]
    },
    {
      "cell_type": "code",
      "execution_count": null,
      "metadata": {
        "colab": {
          "base_uri": "https://localhost:8080/",
          "height": 206
        },
        "id": "Hpwb7c_QFma1",
        "outputId": "8fd1b937-0617-4256-999a-5f06960d5641"
      },
      "outputs": [
        {
          "output_type": "execute_result",
          "data": {
            "text/plain": [
              "      status_type\n",
              "6937            3\n",
              "5138            3\n",
              "5972            1\n",
              "5584            1\n",
              "5492            1"
            ],
            "text/html": [
              "\n",
              "  <div id=\"df-29c826d7-1c53-4fce-85d5-cd288587d1e3\">\n",
              "    <div class=\"colab-df-container\">\n",
              "      <div>\n",
              "<style scoped>\n",
              "    .dataframe tbody tr th:only-of-type {\n",
              "        vertical-align: middle;\n",
              "    }\n",
              "\n",
              "    .dataframe tbody tr th {\n",
              "        vertical-align: top;\n",
              "    }\n",
              "\n",
              "    .dataframe thead th {\n",
              "        text-align: right;\n",
              "    }\n",
              "</style>\n",
              "<table border=\"1\" class=\"dataframe\">\n",
              "  <thead>\n",
              "    <tr style=\"text-align: right;\">\n",
              "      <th></th>\n",
              "      <th>status_type</th>\n",
              "    </tr>\n",
              "  </thead>\n",
              "  <tbody>\n",
              "    <tr>\n",
              "      <th>6937</th>\n",
              "      <td>3</td>\n",
              "    </tr>\n",
              "    <tr>\n",
              "      <th>5138</th>\n",
              "      <td>3</td>\n",
              "    </tr>\n",
              "    <tr>\n",
              "      <th>5972</th>\n",
              "      <td>1</td>\n",
              "    </tr>\n",
              "    <tr>\n",
              "      <th>5584</th>\n",
              "      <td>1</td>\n",
              "    </tr>\n",
              "    <tr>\n",
              "      <th>5492</th>\n",
              "      <td>1</td>\n",
              "    </tr>\n",
              "  </tbody>\n",
              "</table>\n",
              "</div>\n",
              "      <button class=\"colab-df-convert\" onclick=\"convertToInteractive('df-29c826d7-1c53-4fce-85d5-cd288587d1e3')\"\n",
              "              title=\"Convert this dataframe to an interactive table.\"\n",
              "              style=\"display:none;\">\n",
              "        \n",
              "  <svg xmlns=\"http://www.w3.org/2000/svg\" height=\"24px\"viewBox=\"0 0 24 24\"\n",
              "       width=\"24px\">\n",
              "    <path d=\"M0 0h24v24H0V0z\" fill=\"none\"/>\n",
              "    <path d=\"M18.56 5.44l.94 2.06.94-2.06 2.06-.94-2.06-.94-.94-2.06-.94 2.06-2.06.94zm-11 1L8.5 8.5l.94-2.06 2.06-.94-2.06-.94L8.5 2.5l-.94 2.06-2.06.94zm10 10l.94 2.06.94-2.06 2.06-.94-2.06-.94-.94-2.06-.94 2.06-2.06.94z\"/><path d=\"M17.41 7.96l-1.37-1.37c-.4-.4-.92-.59-1.43-.59-.52 0-1.04.2-1.43.59L10.3 9.45l-7.72 7.72c-.78.78-.78 2.05 0 2.83L4 21.41c.39.39.9.59 1.41.59.51 0 1.02-.2 1.41-.59l7.78-7.78 2.81-2.81c.8-.78.8-2.07 0-2.86zM5.41 20L4 18.59l7.72-7.72 1.47 1.35L5.41 20z\"/>\n",
              "  </svg>\n",
              "      </button>\n",
              "      \n",
              "  <style>\n",
              "    .colab-df-container {\n",
              "      display:flex;\n",
              "      flex-wrap:wrap;\n",
              "      gap: 12px;\n",
              "    }\n",
              "\n",
              "    .colab-df-convert {\n",
              "      background-color: #E8F0FE;\n",
              "      border: none;\n",
              "      border-radius: 50%;\n",
              "      cursor: pointer;\n",
              "      display: none;\n",
              "      fill: #1967D2;\n",
              "      height: 32px;\n",
              "      padding: 0 0 0 0;\n",
              "      width: 32px;\n",
              "    }\n",
              "\n",
              "    .colab-df-convert:hover {\n",
              "      background-color: #E2EBFA;\n",
              "      box-shadow: 0px 1px 2px rgba(60, 64, 67, 0.3), 0px 1px 3px 1px rgba(60, 64, 67, 0.15);\n",
              "      fill: #174EA6;\n",
              "    }\n",
              "\n",
              "    [theme=dark] .colab-df-convert {\n",
              "      background-color: #3B4455;\n",
              "      fill: #D2E3FC;\n",
              "    }\n",
              "\n",
              "    [theme=dark] .colab-df-convert:hover {\n",
              "      background-color: #434B5C;\n",
              "      box-shadow: 0px 1px 3px 1px rgba(0, 0, 0, 0.15);\n",
              "      filter: drop-shadow(0px 1px 2px rgba(0, 0, 0, 0.3));\n",
              "      fill: #FFFFFF;\n",
              "    }\n",
              "  </style>\n",
              "\n",
              "      <script>\n",
              "        const buttonEl =\n",
              "          document.querySelector('#df-29c826d7-1c53-4fce-85d5-cd288587d1e3 button.colab-df-convert');\n",
              "        buttonEl.style.display =\n",
              "          google.colab.kernel.accessAllowed ? 'block' : 'none';\n",
              "\n",
              "        async function convertToInteractive(key) {\n",
              "          const element = document.querySelector('#df-29c826d7-1c53-4fce-85d5-cd288587d1e3');\n",
              "          const dataTable =\n",
              "            await google.colab.kernel.invokeFunction('convertToInteractive',\n",
              "                                                     [key], {});\n",
              "          if (!dataTable) return;\n",
              "\n",
              "          const docLinkHtml = 'Like what you see? Visit the ' +\n",
              "            '<a target=\"_blank\" href=https://colab.research.google.com/notebooks/data_table.ipynb>data table notebook</a>'\n",
              "            + ' to learn more about interactive tables.';\n",
              "          element.innerHTML = '';\n",
              "          dataTable['output_type'] = 'display_data';\n",
              "          await google.colab.output.renderOutput(dataTable, element);\n",
              "          const docLink = document.createElement('div');\n",
              "          docLink.innerHTML = docLinkHtml;\n",
              "          element.appendChild(docLink);\n",
              "        }\n",
              "      </script>\n",
              "    </div>\n",
              "  </div>\n",
              "  "
            ]
          },
          "metadata": {},
          "execution_count": 11
        }
      ],
      "source": [
        "import pandas as pd\n",
        "\n",
        "X = pd.DataFrame({'status_type':df_reduced2.iloc[:, 1]})\n",
        "X.head()"
      ]
    },
    {
      "cell_type": "code",
      "execution_count": null,
      "metadata": {
        "colab": {
          "base_uri": "https://localhost:8080/",
          "height": 434
        },
        "id": "lVu4I1OiFma1",
        "outputId": "7f4013ca-47ae-48ac-d8a9-96eb397017ce"
      },
      "outputs": [
        {
          "output_type": "display_data",
          "data": {
            "text/plain": [
              "<Figure size 640x480 with 1 Axes>"
            ],
            "image/png": "[encoded data removed]"
          },
          "metadata": {}
        }
      ],
      "source": [
        "from scipy.cluster.hierarchy import dendrogram,linkage\n",
        "\n",
        "dendrogram(linkage(X, 'ward'), truncate_mode= 'level', p=3)\n",
        "\n",
        "plt.show()\n"
      ]
    },
    {
      "cell_type": "markdown",
      "metadata": {
        "id": "6bN1KxeMFma2"
      },
      "source": [
        "Ao analisar o dendrigrama podemos identificar que o eixo do x representa o identificador de cada número de **status_id**. Entretanto quando os valores apresentam-se entre parenteses, representa o total de números de **status_id** que aquela ramificação possui."
      ]
    },
    {
      "cell_type": "markdown",
      "metadata": {
        "id": "QaQFzeQEFma2"
      },
      "source": [
        "## Melhorias na precisão dos Modelos\n",
        "\n",
        "Não foi preciso realizar melhorias de precisão dos modelos, pois o modelo atende aos requisitos, isto é, os modelos de clustering estão a atingir os níveis desejados de precisão e atendendo aos requisitos do projeto, isso significa que os modelos atuais estão satisfatórios e não há necessidade imediata de buscar melhorias na precisão. Assim sendo, conseguimos melhorar a precisão dos modelos resolvendo o problema de overfitting."
      ]
    },
    {
      "cell_type": "markdown",
      "metadata": {
        "id": "AtVbyvKBFma2"
      },
      "source": [
        "## Resultados de Validação dos Modelos de ML desenvolvidos\n",
        "Neste tópico iremos realizar a validação dos modelos desenvolvidos anteriormente na qual utilizaremos a Matriz de Confusão para ambos os modelos.\n",
        "As matrizes de confusão são uma representação visual dos resultados do modelo, mostrando a contagem ou a proporção de instâncias classificadas corretamente e incorretamente para cada classe. Elas são especialmente úteis em problemas de classificação multiclasse."
      ]
    },
    {
      "cell_type": "markdown",
      "metadata": {
        "id": "mQiHSA7hFma2"
      },
      "source": [
        "#### Matriz de Confusão\n",
        "\n",
        "#### Matriz de Confusão para o modelo de Dendrograma"
      ]
    },
    {
      "cell_type": "code",
      "execution_count": null,
      "metadata": {
        "colab": {
          "base_uri": "https://localhost:8080/",
          "height": 206
        },
        "id": "B5WqS2Q-Fma2",
        "outputId": "cdfecb21-def1-4613-8e22-a3d75f56c10f"
      },
      "outputs": [
        {
          "output_type": "execute_result",
          "data": {
            "text/plain": [
              "   status_id  num_reactions  num_comments  num_shares  num_likes  num_loves  \\\n",
              "0          1            529           512         262        432         92   \n",
              "1          2            150             0           0        150          0   \n",
              "2          3            227           236          57        204         21   \n",
              "3          4            111             0           0        111          0   \n",
              "4          5            213             0           0        204          9   \n",
              "\n",
              "   num_wows  num_hahas  num_sads  num_angrys  \n",
              "0         3          1         1           0  \n",
              "1         0          0         0           0  \n",
              "2         1          1         0           0  \n",
              "3         0          0         0           0  \n",
              "4         0          0         0           0  "
            ],
            "text/html": [
              "\n",
              "  <div id=\"df-bdf50024-1401-4da6-b685-0e952a3de659\">\n",
              "    <div class=\"colab-df-container\">\n",
              "      <div>\n",
              "<style scoped>\n",
              "    .dataframe tbody tr th:only-of-type {\n",
              "        vertical-align: middle;\n",
              "    }\n",
              "\n",
              "    .dataframe tbody tr th {\n",
              "        vertical-align: top;\n",
              "    }\n",
              "\n",
              "    .dataframe thead th {\n",
              "        text-align: right;\n",
              "    }\n",
              "</style>\n",
              "<table border=\"1\" class=\"dataframe\">\n",
              "  <thead>\n",
              "    <tr style=\"text-align: right;\">\n",
              "      <th></th>\n",
              "      <th>status_id</th>\n",
              "      <th>num_reactions</th>\n",
              "      <th>num_comments</th>\n",
              "      <th>num_shares</th>\n",
              "      <th>num_likes</th>\n",
              "      <th>num_loves</th>\n",
              "      <th>num_wows</th>\n",
              "      <th>num_hahas</th>\n",
              "      <th>num_sads</th>\n",
              "      <th>num_angrys</th>\n",
              "    </tr>\n",
              "  </thead>\n",
              "  <tbody>\n",
              "    <tr>\n",
              "      <th>0</th>\n",
              "      <td>1</td>\n",
              "      <td>529</td>\n",
              "      <td>512</td>\n",
              "      <td>262</td>\n",
              "      <td>432</td>\n",
              "      <td>92</td>\n",
              "      <td>3</td>\n",
              "      <td>1</td>\n",
              "      <td>1</td>\n",
              "      <td>0</td>\n",
              "    </tr>\n",
              "    <tr>\n",
              "      <th>1</th>\n",
              "      <td>2</td>\n",
              "      <td>150</td>\n",
              "      <td>0</td>\n",
              "      <td>0</td>\n",
              "      <td>150</td>\n",
              "      <td>0</td>\n",
              "      <td>0</td>\n",
              "      <td>0</td>\n",
              "      <td>0</td>\n",
              "      <td>0</td>\n",
              "    </tr>\n",
              "    <tr>\n",
              "      <th>2</th>\n",
              "      <td>3</td>\n",
              "      <td>227</td>\n",
              "      <td>236</td>\n",
              "      <td>57</td>\n",
              "      <td>204</td>\n",
              "      <td>21</td>\n",
              "      <td>1</td>\n",
              "      <td>1</td>\n",
              "      <td>0</td>\n",
              "      <td>0</td>\n",
              "    </tr>\n",
              "    <tr>\n",
              "      <th>3</th>\n",
              "      <td>4</td>\n",
              "      <td>111</td>\n",
              "      <td>0</td>\n",
              "      <td>0</td>\n",
              "      <td>111</td>\n",
              "      <td>0</td>\n",
              "      <td>0</td>\n",
              "      <td>0</td>\n",
              "      <td>0</td>\n",
              "      <td>0</td>\n",
              "    </tr>\n",
              "    <tr>\n",
              "      <th>4</th>\n",
              "      <td>5</td>\n",
              "      <td>213</td>\n",
              "      <td>0</td>\n",
              "      <td>0</td>\n",
              "      <td>204</td>\n",
              "      <td>9</td>\n",
              "      <td>0</td>\n",
              "      <td>0</td>\n",
              "      <td>0</td>\n",
              "      <td>0</td>\n",
              "    </tr>\n",
              "  </tbody>\n",
              "</table>\n",
              "</div>\n",
              "      <button class=\"colab-df-convert\" onclick=\"convertToInteractive('df-bdf50024-1401-4da6-b685-0e952a3de659')\"\n",
              "              title=\"Convert this dataframe to an interactive table.\"\n",
              "              style=\"display:none;\">\n",
              "        \n",
              "  <svg xmlns=\"http://www.w3.org/2000/svg\" height=\"24px\"viewBox=\"0 0 24 24\"\n",
              "       width=\"24px\">\n",
              "    <path d=\"M0 0h24v24H0V0z\" fill=\"none\"/>\n",
              "    <path d=\"M18.56 5.44l.94 2.06.94-2.06 2.06-.94-2.06-.94-.94-2.06-.94 2.06-2.06.94zm-11 1L8.5 8.5l.94-2.06 2.06-.94-2.06-.94L8.5 2.5l-.94 2.06-2.06.94zm10 10l.94 2.06.94-2.06 2.06-.94-2.06-.94-.94-2.06-.94 2.06-2.06.94z\"/><path d=\"M17.41 7.96l-1.37-1.37c-.4-.4-.92-.59-1.43-.59-.52 0-1.04.2-1.43.59L10.3 9.45l-7.72 7.72c-.78.78-.78 2.05 0 2.83L4 21.41c.39.39.9.59 1.41.59.51 0 1.02-.2 1.41-.59l7.78-7.78 2.81-2.81c.8-.78.8-2.07 0-2.86zM5.41 20L4 18.59l7.72-7.72 1.47 1.35L5.41 20z\"/>\n",
              "  </svg>\n",
              "      </button>\n",
              "      \n",
              "  <style>\n",
              "    .colab-df-container {\n",
              "      display:flex;\n",
              "      flex-wrap:wrap;\n",
              "      gap: 12px;\n",
              "    }\n",
              "\n",
              "    .colab-df-convert {\n",
              "      background-color: #E8F0FE;\n",
              "      border: none;\n",
              "      border-radius: 50%;\n",
              "      cursor: pointer;\n",
              "      display: none;\n",
              "      fill: #1967D2;\n",
              "      height: 32px;\n",
              "      padding: 0 0 0 0;\n",
              "      width: 32px;\n",
              "    }\n",
              "\n",
              "    .colab-df-convert:hover {\n",
              "      background-color: #E2EBFA;\n",
              "      box-shadow: 0px 1px 2px rgba(60, 64, 67, 0.3), 0px 1px 3px 1px rgba(60, 64, 67, 0.15);\n",
              "      fill: #174EA6;\n",
              "    }\n",
              "\n",
              "    [theme=dark] .colab-df-convert {\n",
              "      background-color: #3B4455;\n",
              "      fill: #D2E3FC;\n",
              "    }\n",
              "\n",
              "    [theme=dark] .colab-df-convert:hover {\n",
              "      background-color: #434B5C;\n",
              "      box-shadow: 0px 1px 3px 1px rgba(0, 0, 0, 0.15);\n",
              "      filter: drop-shadow(0px 1px 2px rgba(0, 0, 0, 0.3));\n",
              "      fill: #FFFFFF;\n",
              "    }\n",
              "  </style>\n",
              "\n",
              "      <script>\n",
              "        const buttonEl =\n",
              "          document.querySelector('#df-bdf50024-1401-4da6-b685-0e952a3de659 button.colab-df-convert');\n",
              "        buttonEl.style.display =\n",
              "          google.colab.kernel.accessAllowed ? 'block' : 'none';\n",
              "\n",
              "        async function convertToInteractive(key) {\n",
              "          const element = document.querySelector('#df-bdf50024-1401-4da6-b685-0e952a3de659');\n",
              "          const dataTable =\n",
              "            await google.colab.kernel.invokeFunction('convertToInteractive',\n",
              "                                                     [key], {});\n",
              "          if (!dataTable) return;\n",
              "\n",
              "          const docLinkHtml = 'Like what you see? Visit the ' +\n",
              "            '<a target=\"_blank\" href=https://colab.research.google.com/notebooks/data_table.ipynb>data table notebook</a>'\n",
              "            + ' to learn more about interactive tables.';\n",
              "          element.innerHTML = '';\n",
              "          dataTable['output_type'] = 'display_data';\n",
              "          await google.colab.output.renderOutput(dataTable, element);\n",
              "          const docLink = document.createElement('div');\n",
              "          docLink.innerHTML = docLinkHtml;\n",
              "          element.appendChild(docLink);\n",
              "        }\n",
              "      </script>\n",
              "    </div>\n",
              "  </div>\n",
              "  "
            ]
          },
          "metadata": {},
          "execution_count": 13
        }
      ],
      "source": [
        "import numpy as np\n",
        "import pandas as pd\n",
        "from sklearn.metrics import confusion_matrix, ConfusionMatrixDisplay\n",
        "from sklearn.linear_model import LogisticRegression\n",
        "from sklearn.model_selection import train_test_split\n",
        "\n",
        "y = df_reduced['status_type']\n",
        "X = df_reduced.drop('status_type', axis=1)\n",
        "\n",
        "X.head()"
      ]
    },
    {
      "cell_type": "markdown",
      "metadata": {
        "id": "qkxB0pQMFma3"
      },
      "source": [
        "##### Partion Data into Train and Test"
      ]
    },
    {
      "cell_type": "code",
      "execution_count": null,
      "metadata": {
        "id": "1BFi_qWuFma3"
      },
      "outputs": [],
      "source": [
        "X_train2, X_teste, y_train, y_test = train_test_split(X, y, random_state=0)"
      ]
    },
    {
      "cell_type": "markdown",
      "metadata": {
        "id": "f7iW0S4wFma3"
      },
      "source": [
        "##### Logistic Regression"
      ]
    },
    {
      "cell_type": "code",
      "execution_count": null,
      "metadata": {
        "colab": {
          "base_uri": "https://localhost:8080/",
          "height": 74
        },
        "id": "IP4-a1coFma3",
        "outputId": "07f66a67-569c-48ce-e688-2bdb81fe88bc"
      },
      "outputs": [
        {
          "output_type": "execute_result",
          "data": {
            "text/plain": [
              "LogisticRegression(max_iter=1000, random_state=42)"
            ],
            "text/html": [
              "<style>#sk-container-id-1 {color: black;background-color: white;}#sk-container-id-1 pre{padding: 0;}#sk-container-id-1 div.sk-toggleable {background-color: white;}#sk-container-id-1 label.sk-toggleable__label {cursor: pointer;display: block;width: 100%;margin-bottom: 0;padding: 0.3em;box-sizing: border-box;text-align: center;}#sk-container-id-1 label.sk-toggleable__label-arrow:before {content: \"▸\";float: left;margin-right: 0.25em;color: #696969;}#sk-container-id-1 label.sk-toggleable__label-arrow:hover:before {color: black;}#sk-container-id-1 div.sk-estimator:hover label.sk-toggleable__label-arrow:before {color: black;}#sk-container-id-1 div.sk-toggleable__content {max-height: 0;max-width: 0;overflow: hidden;text-align: left;background-color: #f0f8ff;}#sk-container-id-1 div.sk-toggleable__content pre {margin: 0.2em;color: black;border-radius: 0.25em;background-color: #f0f8ff;}#sk-container-id-1 input.sk-toggleable__control:checked~div.sk-toggleable__content {max-height: 200px;max-width: 100%;overflow: auto;}#sk-container-id-1 input.sk-toggleable__control:checked~label.sk-toggleable__label-arrow:before {content: \"▾\";}#sk-container-id-1 div.sk-estimator input.sk-toggleable__control:checked~label.sk-toggleable__label {background-color: #d4ebff;}#sk-container-id-1 div.sk-label input.sk-toggleable__control:checked~label.sk-toggleable__label {background-color: #d4ebff;}#sk-container-id-1 input.sk-hidden--visually {border: 0;clip: rect(1px 1px 1px 1px);clip: rect(1px, 1px, 1px, 1px);height: 1px;margin: -1px;overflow: hidden;padding: 0;position: absolute;width: 1px;}#sk-container-id-1 div.sk-estimator {font-family: monospace;background-color: #f0f8ff;border: 1px dotted black;border-radius: 0.25em;box-sizing: border-box;margin-bottom: 0.5em;}#sk-container-id-1 div.sk-estimator:hover {background-color: #d4ebff;}#sk-container-id-1 div.sk-parallel-item::after {content: \"\";width: 100%;border-bottom: 1px solid gray;flex-grow: 1;}#sk-container-id-1 div.sk-label:hover label.sk-toggleable__label {background-color: #d4ebff;}#sk-container-id-1 div.sk-serial::before {content: \"\";position: absolute;border-left: 1px solid gray;box-sizing: border-box;top: 0;bottom: 0;left: 50%;z-index: 0;}#sk-container-id-1 div.sk-serial {display: flex;flex-direction: column;align-items: center;background-color: white;padding-right: 0.2em;padding-left: 0.2em;position: relative;}#sk-container-id-1 div.sk-item {position: relative;z-index: 1;}#sk-container-id-1 div.sk-parallel {display: flex;align-items: stretch;justify-content: center;background-color: white;position: relative;}#sk-container-id-1 div.sk-item::before, #sk-container-id-1 div.sk-parallel-item::before {content: \"\";position: absolute;border-left: 1px solid gray;box-sizing: border-box;top: 0;bottom: 0;left: 50%;z-index: -1;}#sk-container-id-1 div.sk-parallel-item {display: flex;flex-direction: column;z-index: 1;position: relative;background-color: white;}#sk-container-id-1 div.sk-parallel-item:first-child::after {align-self: flex-end;width: 50%;}#sk-container-id-1 div.sk-parallel-item:last-child::after {align-self: flex-start;width: 50%;}#sk-container-id-1 div.sk-parallel-item:only-child::after {width: 0;}#sk-container-id-1 div.sk-dashed-wrapped {border: 1px dashed gray;margin: 0 0.4em 0.5em 0.4em;box-sizing: border-box;padding-bottom: 0.4em;background-color: white;}#sk-container-id-1 div.sk-label label {font-family: monospace;font-weight: bold;display: inline-block;line-height: 1.2em;}#sk-container-id-1 div.sk-label-container {text-align: center;}#sk-container-id-1 div.sk-container {/* jupyter's `normalize.less` sets `[hidden] { display: none; }` but bootstrap.min.css set `[hidden] { display: none !important; }` so we also need the `!important` here to be able to override the default hidden behavior on the sphinx rendered scikit-learn.org. See: https://github.com/scikit-learn/scikit-learn/issues/21755 */display: inline-block !important;position: relative;}#sk-container-id-1 div.sk-text-repr-fallback {display: none;}</style><div id=\"sk-container-id-1\" class=\"sk-top-container\"><div class=\"sk-text-repr-fallback\"><pre>LogisticRegression(max_iter=1000, random_state=42)</pre><b>In a Jupyter environment, please rerun this cell to show the HTML representation or trust the notebook. <br />On GitHub, the HTML representation is unable to render, please try loading this page with nbviewer.org.</b></div><div class=\"sk-container\" hidden><div class=\"sk-item\"><div class=\"sk-estimator sk-toggleable\"><input class=\"sk-toggleable__control sk-hidden--visually\" id=\"sk-estimator-id-1\" type=\"checkbox\" checked><label for=\"sk-estimator-id-1\" class=\"sk-toggleable__label sk-toggleable__label-arrow\">LogisticRegression</label><div class=\"sk-toggleable__content\"><pre>LogisticRegression(max_iter=1000, random_state=42)</pre></div></div></div></div></div>"
            ]
          },
          "metadata": {},
          "execution_count": 15
        }
      ],
      "source": [
        "lr = LogisticRegression(max_iter=1000, random_state=42)\n",
        "\n",
        "lr.fit(X_train2, y_train)"
      ]
    },
    {
      "cell_type": "markdown",
      "metadata": {
        "id": "QJL7k3UYFma3"
      },
      "source": [
        "##### Make Prediction on **Test Data**"
      ]
    },
    {
      "cell_type": "code",
      "execution_count": null,
      "metadata": {
        "colab": {
          "base_uri": "https://localhost:8080/"
        },
        "id": "TvrRWKSjFma4",
        "outputId": "a1e94ab3-0408-470f-bfd5-2e7c8ea94a70"
      },
      "outputs": [
        {
          "output_type": "execute_result",
          "data": {
            "text/plain": [
              "array([3, 1, 3, 1, 3, 1, 3, 3, 1, 1, 3, 3, 1, 3, 1, 3, 1, 3, 3, 3, 1, 3])"
            ]
          },
          "metadata": {},
          "execution_count": 16
        }
      ],
      "source": [
        "y_test_pred = lr.predict(X_teste)\n",
        "\n",
        "y_test_pred"
      ]
    },
    {
      "cell_type": "markdown",
      "metadata": {
        "id": "LWUQ-wfbFma4"
      },
      "source": [
        "##### Confusion Matrix"
      ]
    },
    {
      "cell_type": "code",
      "execution_count": null,
      "metadata": {
        "colab": {
          "base_uri": "https://localhost:8080/"
        },
        "id": "qI5ukH2GFma4",
        "outputId": "4134c160-397c-4d19-8226-53cc7b2db45b"
      },
      "outputs": [
        {
          "output_type": "execute_result",
          "data": {
            "text/plain": [
              "array([1, 3])"
            ]
          },
          "metadata": {},
          "execution_count": 17
        }
      ],
      "source": [
        "lr.classes_"
      ]
    },
    {
      "cell_type": "code",
      "execution_count": null,
      "metadata": {
        "colab": {
          "base_uri": "https://localhost:8080/"
        },
        "id": "xWEXy7trFmbI",
        "outputId": "e09b9020-375b-486b-d438-0f17b48e1f1c"
      },
      "outputs": [
        {
          "output_type": "stream",
          "name": "stdout",
          "text": [
            "[[ 7  0]\n",
            " [ 2 13]]\n"
          ]
        }
      ],
      "source": [
        "cm = confusion_matrix(y_test, y_test_pred, labels= lr.classes_)\n",
        "\n",
        "print(cm)"
      ]
    },
    {
      "cell_type": "code",
      "execution_count": null,
      "metadata": {
        "colab": {
          "base_uri": "https://localhost:8080/",
          "height": 466
        },
        "id": "ZpDtiiXOFmbI",
        "outputId": "f7e319d5-bf48-4138-aade-e28b4d5b68ab"
      },
      "outputs": [
        {
          "output_type": "execute_result",
          "data": {
            "text/plain": [
              "<sklearn.metrics._plot.confusion_matrix.ConfusionMatrixDisplay at 0x7fbaecb6ae60>"
            ]
          },
          "metadata": {},
          "execution_count": 19
        },
        {
          "output_type": "display_data",
          "data": {
            "text/plain": [
              "<Figure size 640x480 with 2 Axes>"
            ],
            "image/png": "[encoded data removed]"
          },
          "metadata": {}
        }
      ],
      "source": [
        "cm_disp = ConfusionMatrixDisplay(confusion_matrix=cm, display_labels= ['Negative','Positive'])\n",
        "\n",
        "cm_disp.plot()"
      ]
    },
    {
      "cell_type": "code",
      "execution_count": null,
      "metadata": {
        "colab": {
          "base_uri": "https://localhost:8080/"
        },
        "id": "-7KsjEWqFmbI",
        "outputId": "320e1f13-0843-4825-b802-44cf9ea2b208"
      },
      "outputs": [
        {
          "output_type": "stream",
          "name": "stdout",
          "text": [
            "Accuracy: 0.91\n"
          ]
        }
      ],
      "source": [
        "import numpy as np\n",
        "\n",
        "accuracy = (cm.diagonal().sum()) / cm.sum()\n",
        "\n",
        "print('Accuracy: {0:0.2f}'.format(accuracy))"
      ]
    },
    {
      "cell_type": "markdown",
      "metadata": {
        "id": "fMG78xH-FmbJ"
      },
      "source": [
        "#### Matriz de Confusão para o Modelo K-Means"
      ]
    },
    {
      "cell_type": "code",
      "execution_count": null,
      "metadata": {
        "colab": {
          "base_uri": "https://localhost:8080/",
          "height": 310
        },
        "id": "V4_T74bWFmbJ",
        "outputId": "86d932a8-8fd5-42a5-826f-57185e9a53be"
      },
      "outputs": [
        {
          "output_type": "stream",
          "name": "stderr",
          "text": [
            "<ipython-input-21-07c79777cf82>:5: SettingWithCopyWarning: \n",
            "A value is trying to be set on a copy of a slice from a DataFrame.\n",
            "Try using .loc[row_indexer,col_indexer] = value instead\n",
            "\n",
            "See the caveats in the documentation: https://pandas.pydata.org/pandas-docs/stable/user_guide/indexing.html#returning-a-view-versus-a-copy\n",
            "  df_reduced.loc[df_reduced['num_comments'] > 0, 'Target'] = 1\n"
          ]
        },
        {
          "output_type": "execute_result",
          "data": {
            "text/plain": [
              "   status_id  status_type  num_reactions  num_comments  num_shares  num_likes  \\\n",
              "0          1            3            529           512         262        432   \n",
              "1          2            1            150             0           0        150   \n",
              "2          3            3            227           236          57        204   \n",
              "3          4            1            111             0           0        111   \n",
              "4          5            1            213             0           0        204   \n",
              "\n",
              "   num_loves  num_wows  num_hahas  num_sads  num_angrys  Target  \n",
              "0         92         3          1         1           0     1.0  \n",
              "1          0         0          0         0           0     0.0  \n",
              "2         21         1          1         0           0     1.0  \n",
              "3          0         0          0         0           0     0.0  \n",
              "4          9         0          0         0           0     0.0  "
            ],
            "text/html": [
              "\n",
              "  <div id=\"df-22d12c46-336c-437d-9bc4-48b3112ec011\">\n",
              "    <div class=\"colab-df-container\">\n",
              "      <div>\n",
              "<style scoped>\n",
              "    .dataframe tbody tr th:only-of-type {\n",
              "        vertical-align: middle;\n",
              "    }\n",
              "\n",
              "    .dataframe tbody tr th {\n",
              "        vertical-align: top;\n",
              "    }\n",
              "\n",
              "    .dataframe thead th {\n",
              "        text-align: right;\n",
              "    }\n",
              "</style>\n",
              "<table border=\"1\" class=\"dataframe\">\n",
              "  <thead>\n",
              "    <tr style=\"text-align: right;\">\n",
              "      <th></th>\n",
              "      <th>status_id</th>\n",
              "      <th>status_type</th>\n",
              "      <th>num_reactions</th>\n",
              "      <th>num_comments</th>\n",
              "      <th>num_shares</th>\n",
              "      <th>num_likes</th>\n",
              "      <th>num_loves</th>\n",
              "      <th>num_wows</th>\n",
              "      <th>num_hahas</th>\n",
              "      <th>num_sads</th>\n",
              "      <th>num_angrys</th>\n",
              "      <th>Target</th>\n",
              "    </tr>\n",
              "  </thead>\n",
              "  <tbody>\n",
              "    <tr>\n",
              "      <th>0</th>\n",
              "      <td>1</td>\n",
              "      <td>3</td>\n",
              "      <td>529</td>\n",
              "      <td>512</td>\n",
              "      <td>262</td>\n",
              "      <td>432</td>\n",
              "      <td>92</td>\n",
              "      <td>3</td>\n",
              "      <td>1</td>\n",
              "      <td>1</td>\n",
              "      <td>0</td>\n",
              "      <td>1.0</td>\n",
              "    </tr>\n",
              "    <tr>\n",
              "      <th>1</th>\n",
              "      <td>2</td>\n",
              "      <td>1</td>\n",
              "      <td>150</td>\n",
              "      <td>0</td>\n",
              "      <td>0</td>\n",
              "      <td>150</td>\n",
              "      <td>0</td>\n",
              "      <td>0</td>\n",
              "      <td>0</td>\n",
              "      <td>0</td>\n",
              "      <td>0</td>\n",
              "      <td>0.0</td>\n",
              "    </tr>\n",
              "    <tr>\n",
              "      <th>2</th>\n",
              "      <td>3</td>\n",
              "      <td>3</td>\n",
              "      <td>227</td>\n",
              "      <td>236</td>\n",
              "      <td>57</td>\n",
              "      <td>204</td>\n",
              "      <td>21</td>\n",
              "      <td>1</td>\n",
              "      <td>1</td>\n",
              "      <td>0</td>\n",
              "      <td>0</td>\n",
              "      <td>1.0</td>\n",
              "    </tr>\n",
              "    <tr>\n",
              "      <th>3</th>\n",
              "      <td>4</td>\n",
              "      <td>1</td>\n",
              "      <td>111</td>\n",
              "      <td>0</td>\n",
              "      <td>0</td>\n",
              "      <td>111</td>\n",
              "      <td>0</td>\n",
              "      <td>0</td>\n",
              "      <td>0</td>\n",
              "      <td>0</td>\n",
              "      <td>0</td>\n",
              "      <td>0.0</td>\n",
              "    </tr>\n",
              "    <tr>\n",
              "      <th>4</th>\n",
              "      <td>5</td>\n",
              "      <td>1</td>\n",
              "      <td>213</td>\n",
              "      <td>0</td>\n",
              "      <td>0</td>\n",
              "      <td>204</td>\n",
              "      <td>9</td>\n",
              "      <td>0</td>\n",
              "      <td>0</td>\n",
              "      <td>0</td>\n",
              "      <td>0</td>\n",
              "      <td>0.0</td>\n",
              "    </tr>\n",
              "  </tbody>\n",
              "</table>\n",
              "</div>\n",
              "      <button class=\"colab-df-convert\" onclick=\"convertToInteractive('df-22d12c46-336c-437d-9bc4-48b3112ec011')\"\n",
              "              title=\"Convert this dataframe to an interactive table.\"\n",
              "              style=\"display:none;\">\n",
              "        \n",
              "  <svg xmlns=\"http://www.w3.org/2000/svg\" height=\"24px\"viewBox=\"0 0 24 24\"\n",
              "       width=\"24px\">\n",
              "    <path d=\"M0 0h24v24H0V0z\" fill=\"none\"/>\n",
              "    <path d=\"M18.56 5.44l.94 2.06.94-2.06 2.06-.94-2.06-.94-.94-2.06-.94 2.06-2.06.94zm-11 1L8.5 8.5l.94-2.06 2.06-.94-2.06-.94L8.5 2.5l-.94 2.06-2.06.94zm10 10l.94 2.06.94-2.06 2.06-.94-2.06-.94-.94-2.06-.94 2.06-2.06.94z\"/><path d=\"M17.41 7.96l-1.37-1.37c-.4-.4-.92-.59-1.43-.59-.52 0-1.04.2-1.43.59L10.3 9.45l-7.72 7.72c-.78.78-.78 2.05 0 2.83L4 21.41c.39.39.9.59 1.41.59.51 0 1.02-.2 1.41-.59l7.78-7.78 2.81-2.81c.8-.78.8-2.07 0-2.86zM5.41 20L4 18.59l7.72-7.72 1.47 1.35L5.41 20z\"/>\n",
              "  </svg>\n",
              "      </button>\n",
              "      \n",
              "  <style>\n",
              "    .colab-df-container {\n",
              "      display:flex;\n",
              "      flex-wrap:wrap;\n",
              "      gap: 12px;\n",
              "    }\n",
              "\n",
              "    .colab-df-convert {\n",
              "      background-color: #E8F0FE;\n",
              "      border: none;\n",
              "      border-radius: 50%;\n",
              "      cursor: pointer;\n",
              "      display: none;\n",
              "      fill: #1967D2;\n",
              "      height: 32px;\n",
              "      padding: 0 0 0 0;\n",
              "      width: 32px;\n",
              "    }\n",
              "\n",
              "    .colab-df-convert:hover {\n",
              "      background-color: #E2EBFA;\n",
              "      box-shadow: 0px 1px 2px rgba(60, 64, 67, 0.3), 0px 1px 3px 1px rgba(60, 64, 67, 0.15);\n",
              "      fill: #174EA6;\n",
              "    }\n",
              "\n",
              "    [theme=dark] .colab-df-convert {\n",
              "      background-color: #3B4455;\n",
              "      fill: #D2E3FC;\n",
              "    }\n",
              "\n",
              "    [theme=dark] .colab-df-convert:hover {\n",
              "      background-color: #434B5C;\n",
              "      box-shadow: 0px 1px 3px 1px rgba(0, 0, 0, 0.15);\n",
              "      filter: drop-shadow(0px 1px 2px rgba(0, 0, 0, 0.3));\n",
              "      fill: #FFFFFF;\n",
              "    }\n",
              "  </style>\n",
              "\n",
              "      <script>\n",
              "        const buttonEl =\n",
              "          document.querySelector('#df-22d12c46-336c-437d-9bc4-48b3112ec011 button.colab-df-convert');\n",
              "        buttonEl.style.display =\n",
              "          google.colab.kernel.accessAllowed ? 'block' : 'none';\n",
              "\n",
              "        async function convertToInteractive(key) {\n",
              "          const element = document.querySelector('#df-22d12c46-336c-437d-9bc4-48b3112ec011');\n",
              "          const dataTable =\n",
              "            await google.colab.kernel.invokeFunction('convertToInteractive',\n",
              "                                                     [key], {});\n",
              "          if (!dataTable) return;\n",
              "\n",
              "          const docLinkHtml = 'Like what you see? Visit the ' +\n",
              "            '<a target=\"_blank\" href=https://colab.research.google.com/notebooks/data_table.ipynb>data table notebook</a>'\n",
              "            + ' to learn more about interactive tables.';\n",
              "          element.innerHTML = '';\n",
              "          dataTable['output_type'] = 'display_data';\n",
              "          await google.colab.output.renderOutput(dataTable, element);\n",
              "          const docLink = document.createElement('div');\n",
              "          docLink.innerHTML = docLinkHtml;\n",
              "          element.appendChild(docLink);\n",
              "        }\n",
              "      </script>\n",
              "    </div>\n",
              "  </div>\n",
              "  "
            ]
          },
          "metadata": {},
          "execution_count": 21
        }
      ],
      "source": [
        "import numpy as np\n",
        "import pandas as pd\n",
        "import matplotlib.pyplot as plt\n",
        "\n",
        "df_reduced.loc[df_reduced['num_comments'] > 0, 'Target'] = 1\n",
        "df_reduced.loc[df_reduced['num_comments'] <= 0, 'Target'] = 0\n",
        "\n",
        "\n",
        "df_reduced.head()"
      ]
    },
    {
      "cell_type": "markdown",
      "source": [
        "#### Criar nosso X e Y"
      ],
      "metadata": {
        "id": "Mg8ImqQ5Hsm5"
      }
    },
    {
      "cell_type": "code",
      "execution_count": null,
      "metadata": {
        "id": "Ij3NUyNOFmbJ"
      },
      "outputs": [],
      "source": [
        "x = df_reduced.iloc[0: ,3].values.reshape(-1,1)\n",
        "y = (df_reduced.Target == 1).astype(int)"
      ]
    },
    {
      "cell_type": "markdown",
      "source": [
        "#### Vamos dividir nossos dados em conjuntos de teste e treinamento e, em seguida, começar a construir nosso modelo de regressão logística"
      ],
      "metadata": {
        "id": "fDPvGuROHx5S"
      }
    },
    {
      "cell_type": "code",
      "execution_count": null,
      "metadata": {
        "id": "ksY1IASxFmbJ"
      },
      "outputs": [],
      "source": [
        "from sklearn.model_selection import train_test_split\n",
        "\n",
        "x_train3, x_test2, y_train2, y_test2 = train_test_split(x,y, test_size=0.20, random_state=0)"
      ]
    },
    {
      "cell_type": "markdown",
      "source": [
        "#### Antes de criarmos nosso classificador, precisaremos normalizar os dados (escala de recursos) usando a função de utilidade StandardScaler"
      ],
      "metadata": {
        "id": "STog3SymISCg"
      }
    },
    {
      "cell_type": "code",
      "execution_count": null,
      "metadata": {
        "id": "Gfs-o0LEFmbK"
      },
      "outputs": [],
      "source": [
        "from sklearn.preprocessing import StandardScaler\n",
        "\n",
        "sc_x = StandardScaler()\n",
        "x_train3 = sc_x.fit_transform(x_train3)\n",
        "x_test2 = sc_x.transform(x_test2)"
      ]
    },
    {
      "cell_type": "markdown",
      "source": [
        "#### Agora estamos prontos para construir nosso Classificador Logístico"
      ],
      "metadata": {
        "id": "A54OyhOKIZhQ"
      }
    },
    {
      "cell_type": "code",
      "execution_count": null,
      "metadata": {
        "id": "GCvxHIWuFmbK"
      },
      "outputs": [],
      "source": [
        "from sklearn.linear_model import LogisticRegression\n",
        "\n",
        "logit = LogisticRegression(random_state=0)\n",
        "logit.fit(x_train3, y_train2)\n",
        "\n",
        "y_predicted2 = logit.predict(x_test2)"
      ]
    },
    {
      "cell_type": "markdown",
      "source": [
        "#### Agora, vamos avaliar nosso classificador com a matriz de confusão"
      ],
      "metadata": {
        "id": "bP7OXOU_If6o"
      }
    },
    {
      "cell_type": "code",
      "execution_count": null,
      "metadata": {
        "colab": {
          "base_uri": "https://localhost:8080/"
        },
        "id": "sNj03pBWFmbK",
        "outputId": "18f600e5-36c3-416f-9193-fecc38b72caf"
      },
      "outputs": [
        {
          "output_type": "stream",
          "name": "stdout",
          "text": [
            "[[ 0  2]\n",
            " [ 0 16]]\n"
          ]
        }
      ],
      "source": [
        "from sklearn.metrics import confusion_matrix\n",
        "\n",
        "cm2 = confusion_matrix(y_test2, y_predicted2)\n",
        "print(cm2)"
      ]
    },
    {
      "cell_type": "markdown",
      "source": [
        "#### Agora iremos construir o gráfico da matriz de confusão, para deixar mais apresentavel"
      ],
      "metadata": {
        "id": "wI1jpVQWItOA"
      }
    },
    {
      "cell_type": "code",
      "execution_count": null,
      "metadata": {
        "colab": {
          "base_uri": "https://localhost:8080/",
          "height": 512
        },
        "id": "suGcUWsTFmbK",
        "outputId": "738afa5c-9360-42df-a502-785a6796a5d6"
      },
      "outputs": [
        {
          "output_type": "display_data",
          "data": {
            "text/plain": [
              "<Figure size 640x480 with 1 Axes>"
            ],
            "image/png": "[encoded data removed]"
          },
          "metadata": {}
        }
      ],
      "source": [
        "plt.clf()\n",
        "plt.imshow(cm2, interpolation='nearest', cmap=plt.cm.Wistia)\n",
        "classNames = ['Negative','Positive']\n",
        "plt.title('Deixou algum comentário ou Não - Confusion Matrix')\n",
        "plt.ylabel('True label')\n",
        "plt.xlabel('Predicted label')\n",
        "tick_marks = np.arange(len(classNames))\n",
        "plt.xticks(tick_marks, classNames, rotation=45)\n",
        "plt.yticks(tick_marks, classNames)\n",
        "s = [['TN','FP'], ['FN', 'TP']]\n",
        "for i in range(2):\n",
        "    for j in range(2):\n",
        "        plt.text(j,i, str(s[i][j])+ \" = \"+str(cm2[i][j]))\n",
        "plt.show()"
      ]
    },
    {
      "cell_type": "code",
      "execution_count": null,
      "metadata": {
        "colab": {
          "base_uri": "https://localhost:8080/"
        },
        "id": "WgxAtDoCFmbK",
        "outputId": "d0d2aadc-d742-481c-a51b-67e6e4a7de07"
      },
      "outputs": [
        {
          "output_type": "stream",
          "name": "stdout",
          "text": [
            "Accuracy: 0.89\n"
          ]
        }
      ],
      "source": [
        "accuracy = (cm2.diagonal().sum()) / cm2.sum()\n",
        "\n",
        "print('Accuracy: {0:0.2f}'.format(accuracy))"
      ]
    },
    {
      "cell_type": "markdown",
      "metadata": {
        "id": "5syPcEofFmbL"
      },
      "source": [
        "# Discusão\n",
        "\n",
        "Por fim, passamos à interpretação e comparação dos resultados, para tal, separámos a discussão em 2 tópicos, o primeiro a avaliação da qualidade dos modelos, seguido pela interpretação dos gráficos. Os objetos da interpretação foram os modelos de clustering k-means com centroides e clustering hierárquico, desenvolvidos utilizando o conjunto de dados Facebook Live Sellers da Tailândia. Em adenda, é de ressaltar um diferença entre o desempenho computacional entre ambos os modelos, temos que o modelo k-means, com a incrementação do conjunto de dados, vai tornar a interpretação dos mesmos um pouco mais fácil, indicando uma escalabilidade do modelo moderada, o que não se verifica para o modelo de clustering hierárquicos dado que neste modelo apenas utilizamos a distância entre pontos de dados onde a quantidade dos dados acaba por impactar na leitura dos resultados, reforçando assim, como no ponto seguinte, que o modelo do k-means se ajusta melhor aos nossos dados.\n",
        "\n",
        "Começando pela avaliação da qualidade dos clusters, para avaliar a qualidade dos clusters desenvolvemos uma matriz de confusão com o objetivo de adquirir os valores de *accuracy* que nos indica a precisão do modelo entre os valores previstos e os valores reais. No caso do modelo de clustering k-means, o valor de accuracy obtido foi de 0.89, demonstrando uma precisão de 89% e para o modelo de clustering hierárquico obtivemos um valor de accuracy de 0.91, indicando uma precisão de 91%. Dados os resultados, mesmo os valores de *accuracy* do cluster hierárquico ser superior ao do k-means, esses valores são muito próximos não tendo muita disparidade entre valores, portanto podemos concluir que, neste requisito, o modelo de k-means é superior.\n",
        "\n",
        "Passando à interpretação dos gráficos, no gráfico do clustering k-means podemos identificar os 3 clusters, sendo o cluster azul correspondente ao aglomerado de dados que possui um valor moderado de **likes**, em média de 200, porém não possui **comentários**. Existe também o cluster amarelo que representa a aglomeração dos dados, no qual existem uma quantidade signifcativa de mais de 200 **likes** e também possui valores moderados de **comentários**, isto é, quanto mais likes um post, consequentemente maior será o número de **comentários**, no qual podemos confirmar essa analise na observação do cluster vermelho, que nos indica essa confirmação, de que quanto mais **comentários** um post tiver mais **likes** terá e vice-versa. Já no gráfico obtido através do clustering hierárquico, o dendrograma, temos o eixo y a representar a dissimilaridade entre os pontos de dados onde quanto maior a distância, maior a dissimilaridade entre os pontos de dados. Ao observar o dendrograma podemos inferir que os dois clusters pode ser um número ideal para o nosso conjunto de dados uma vez que, quando o gráfico se ramifica pela segunda vez, existe pouca distância entre a ramificação seguinte, indicando que os dados apresentam cada vez mais semelhanças, com esta inferência podemos concluir que, para os nossos 4 tipos de **status_type**, apenas existem 2 aglomerados de dados para o nosso conjunto."
      ]
    },
    {
      "cell_type": "markdown",
      "source": [
        "# Apreciação global do projeto\n",
        "\n",
        "A escolha do tema do projeto baseou-se no fascínio por uma das plataformas de media social mais populares do mundo: o Facebook. Acreditámos que compreender e analisar o envolvimento nas páginas de vendedores tailandeses de moda e cosméticos seria uma forma interessante e relevante de explorar os dados disponíveis nesta plataforma. Com base nessa motivação, embarcámos nesta jornada de recolha de dados, análise e descoberta de insights, com o objetivo de proporcionar uma compreensão mais profunda do comportamento dos utilizadores do Facebook e do envolvimento nas páginas de vendedores tailandeses, neste contexto específico.\n",
        "As ferramentas utilizadas para este projeto foi o jupyter notebook, no Jupyter Notebook, foram também utilizadas inúmeras bibliotecas como por exemplo, o **pandas**, o **sklearn**, o **numpy**, o **matplotlib**, entre outras bibliotecas.\n",
        "\n",
        "Neste trabalho houve algumas dificuldade, como por exemplo na parte de redução dos dados, no qual foi muito trabalhoso achar o tamanho adequado dos dados que poderiamos utilizar para a continuação do trabalho, uma outra dificuldade foi na parte da matriz de confusão, essa dificuldade foi na parte do código, no qual não sabiamos muito bem o que suposto fazer, perdemos muito tempo a procura de videos ou documentos que nos ajudasse a realizar tal código. Essas dificuldades foram superadas com muito esforço de pesquisa e com a excelente ajuda do professor, no qual nos ajudou a tirar todas as nossas duvidas tanto nas aulas quanto por e-mails.\n",
        "\n",
        "Em resumo, este projeto teve um impacto significativo na nossa compreensão do envolvimento nas páginas do Facebook de vendedores tailandeses de moda e cosméticos. Ao explorar os dados e realizar análises, obtivemos insights valiosos sobre os padrões de interação dos utilizadores, o desempenho das diferentes formas de publicações e as métricas de envolvimento mais relevantes, como comentários, partilhas e reações. Além disso, também adquirimos um entendimento mais profundo sobre o funcionamento da ferramenta Jupyter Notebook e expandimos o nosso conhecimento na área de Aprendizagem Automática, que é um setor em grande desenvolvimento na área da Tecnologia. Fomos capazes de aplicar todo o conhecimento adquirido em aula neste projeto, o que nos proporcionou uma experiência prática valiosa."
      ],
      "metadata": {
        "id": "uhrmKA_PRYKP"
      }
    }
  ],
  "metadata": {
    "kernelspec": {
      "display_name": "Python 3",
      "language": "python",
      "name": "python3"
    },
    "language_info": {
      "codemirror_mode": {
        "name": "ipython",
        "version": 3
      },
      "file_extension": ".py",
      "mimetype": "text/x-python",
      "name": "python",
      "nbconvert_exporter": "python",
      "pygments_lexer": "ipython3",
      "version": "3.11.2"
    },
    "orig_nbformat": 4,
    "colab": {
      "provenance": []
    }
  },
  "nbformat": 4,
  "nbformat_minor": 0
}